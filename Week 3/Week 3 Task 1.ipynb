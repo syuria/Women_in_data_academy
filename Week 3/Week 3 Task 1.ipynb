{
 "cells": [
  {
   "cell_type": "markdown",
   "metadata": {},
   "source": [
    "Task 1\n",
    "---------\n",
    "Write a program that allows you to enter 4 numbers and stores them in a file called “Numbers” and stores them in a file called “Numbers”.\n",
    "• 3\n",
    "• 45\n",
    "• 83\n",
    "• 21\n",
    "Have a go at ‘w’ r’ a’ "
   ]
  },
  {
   "cell_type": "code",
   "execution_count": 4,
   "metadata": {},
   "outputs": [],
   "source": [
    "number_list = []"
   ]
  },
  {
   "cell_type": "code",
   "execution_count": 5,
   "metadata": {},
   "outputs": [
    {
     "name": "stdout",
     "output_type": "stream",
     "text": [
      "Enter number 1:3\n",
      "Enter number 2:45\n",
      "Enter number 3:83\n",
      "Enter number 4:21\n"
     ]
    }
   ],
   "source": [
    "for i in range(4):\n",
    "    myNumber = int(input(\"Enter number \" + str(i+1) + \":\"))\n",
    "    number_list.append(myNumber)"
   ]
  },
  {
   "cell_type": "code",
   "execution_count": 6,
   "metadata": {},
   "outputs": [],
   "source": [
    "number = open(\"Numbers.txt\",\"w\")\n",
    "\n",
    "for i in number_list:\n",
    "    number.write(str(i))\n",
    "    number.write(\"\\n\")\n",
    "number.close()"
   ]
  },
  {
   "cell_type": "code",
   "execution_count": 7,
   "metadata": {},
   "outputs": [
    {
     "name": "stdout",
     "output_type": "stream",
     "text": [
      "3\n",
      "45\n",
      "83\n",
      "21\n",
      "\n"
     ]
    }
   ],
   "source": [
    "number = open(\"Numbers.txt\",\"r\")\n",
    "\n",
    "print(number.read())"
   ]
  },
  {
   "cell_type": "code",
   "execution_count": 8,
   "metadata": {},
   "outputs": [],
   "source": [
    "number = open(\"Numbers.txt\",\"a\")\n",
    "\n",
    "for i in number_list:\n",
    "    number.write(str(i))\n",
    "    number.write(\"\\n\")\n",
    "number.close()"
   ]
  },
  {
   "cell_type": "code",
   "execution_count": 9,
   "metadata": {},
   "outputs": [
    {
     "name": "stdout",
     "output_type": "stream",
     "text": [
      "3\n",
      "45\n",
      "83\n",
      "21\n",
      "3\n",
      "45\n",
      "83\n",
      "21\n",
      "\n"
     ]
    }
   ],
   "source": [
    "number = open(\"Numbers.txt\",\"r\")\n",
    "\n",
    "print(number.read())"
   ]
  },
  {
   "cell_type": "code",
   "execution_count": null,
   "metadata": {},
   "outputs": [],
   "source": []
  }
 ],
 "metadata": {
  "kernelspec": {
   "display_name": "tutorial_ds",
   "language": "python",
   "name": "tutorial_ds"
  },
  "language_info": {
   "codemirror_mode": {
    "name": "ipython",
    "version": 3
   },
   "file_extension": ".py",
   "mimetype": "text/x-python",
   "name": "python",
   "nbconvert_exporter": "python",
   "pygments_lexer": "ipython3",
   "version": "3.9.1"
  },
  "toc": {
   "base_numbering": 1,
   "nav_menu": {},
   "number_sections": true,
   "sideBar": true,
   "skip_h1_title": false,
   "title_cell": "Table of Contents",
   "title_sidebar": "Contents",
   "toc_cell": false,
   "toc_position": {},
   "toc_section_display": true,
   "toc_window_display": false
  },
  "varInspector": {
   "cols": {
    "lenName": 16,
    "lenType": 16,
    "lenVar": 40
   },
   "kernels_config": {
    "python": {
     "delete_cmd_postfix": "",
     "delete_cmd_prefix": "del ",
     "library": "var_list.py",
     "varRefreshCmd": "print(var_dic_list())"
    },
    "r": {
     "delete_cmd_postfix": ") ",
     "delete_cmd_prefix": "rm(",
     "library": "var_list.r",
     "varRefreshCmd": "cat(var_dic_list()) "
    }
   },
   "types_to_exclude": [
    "module",
    "function",
    "builtin_function_or_method",
    "instance",
    "_Feature"
   ],
   "window_display": false
  }
 },
 "nbformat": 4,
 "nbformat_minor": 4
}
