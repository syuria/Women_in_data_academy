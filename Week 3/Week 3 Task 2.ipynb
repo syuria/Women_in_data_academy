{
 "cells": [
  {
   "cell_type": "markdown",
   "metadata": {},
   "source": [
    "Task 2\n",
    "---------\n",
    "Write a program to ask a student for their a student for their percentage mark and convert this to a grade.\n",
    "The conversion will be done in a function called mark_grade"
   ]
  },
  {
   "cell_type": "code",
   "execution_count": 4,
   "metadata": {},
   "outputs": [],
   "source": [
    "def mark_grade(mark):\n",
    "    if 0<=mark<40:\n",
    "        grade = 'E'\n",
    "    elif 40<=mark<50:\n",
    "        grade = 'D'\n",
    "    elif 50<=mark<60:\n",
    "        grade = 'C'\n",
    "    elif 60<=mark<80:\n",
    "        grade = 'B'\n",
    "    elif 80<=mark<100:\n",
    "        grade = 'A'\n",
    "    else:\n",
    "        grade = 'Mark not within 0-100'\n",
    "    return grade\n",
    "        "
   ]
  },
  {
   "cell_type": "code",
   "execution_count": 5,
   "metadata": {},
   "outputs": [
    {
     "name": "stdout",
     "output_type": "stream",
     "text": [
      "Enter the student's mark:55\n"
     ]
    }
   ],
   "source": [
    "mark = input(\"Enter the student's mark:\")"
   ]
  },
  {
   "cell_type": "code",
   "execution_count": 6,
   "metadata": {},
   "outputs": [
    {
     "name": "stdout",
     "output_type": "stream",
     "text": [
      "grade is C\n"
     ]
    }
   ],
   "source": [
    "grade = mark_grade(int(mark))\n",
    "print(\"grade is \" + grade)"
   ]
  },
  {
   "cell_type": "markdown",
   "metadata": {},
   "source": [
    "Extension to Task 2\n",
    "----------------------------\n",
    "\n",
    "Ask the user for their target grade and print this with their mark"
   ]
  },
  {
   "cell_type": "code",
   "execution_count": 7,
   "metadata": {},
   "outputs": [
    {
     "name": "stdout",
     "output_type": "stream",
     "text": [
      "Enter the student's target grade:A\n"
     ]
    }
   ],
   "source": [
    "target_grade = input(\"Enter the student's target grade:\")"
   ]
  },
  {
   "cell_type": "code",
   "execution_count": 8,
   "metadata": {},
   "outputs": [
    {
     "name": "stdout",
     "output_type": "stream",
     "text": [
      "grade: C\n",
      "target grade: A\n"
     ]
    }
   ],
   "source": [
    "print(\"grade: \" + grade)\n",
    "print(\"target grade: \" + target_grade)"
   ]
  },
  {
   "cell_type": "code",
   "execution_count": 13,
   "metadata": {},
   "outputs": [
    {
     "name": "stdout",
     "output_type": "stream",
     "text": [
      "Work harder to achieve your target grade\n"
     ]
    }
   ],
   "source": [
    "if ord(target_grade) < ord(grade):\n",
    "    print(\"Work harder to achieve your target grade\")\n",
    "elif ord(target_grade) < ord(grade):\n",
    "    print(\"Well done. You achieve your target grade\")\n",
    "else:\n",
    "    print(\"Excellent!! Your grade is boyond as what targeted\")"
   ]
  },
  {
   "cell_type": "code",
   "execution_count": null,
   "metadata": {},
   "outputs": [],
   "source": []
  }
 ],
 "metadata": {
  "kernelspec": {
   "display_name": "tutorial_ds",
   "language": "python",
   "name": "tutorial_ds"
  },
  "language_info": {
   "codemirror_mode": {
    "name": "ipython",
    "version": 3
   },
   "file_extension": ".py",
   "mimetype": "text/x-python",
   "name": "python",
   "nbconvert_exporter": "python",
   "pygments_lexer": "ipython3",
   "version": "3.9.1"
  },
  "toc": {
   "base_numbering": 1,
   "nav_menu": {
    "height": "315.994px",
    "width": "243.991px"
   },
   "number_sections": true,
   "sideBar": true,
   "skip_h1_title": false,
   "title_cell": "Table of Contents",
   "title_sidebar": "Contents",
   "toc_cell": false,
   "toc_position": {},
   "toc_section_display": true,
   "toc_window_display": false
  },
  "varInspector": {
   "cols": {
    "lenName": 16,
    "lenType": 16,
    "lenVar": 40
   },
   "kernels_config": {
    "python": {
     "delete_cmd_postfix": "",
     "delete_cmd_prefix": "del ",
     "library": "var_list.py",
     "varRefreshCmd": "print(var_dic_list())"
    },
    "r": {
     "delete_cmd_postfix": ") ",
     "delete_cmd_prefix": "rm(",
     "library": "var_list.r",
     "varRefreshCmd": "cat(var_dic_list()) "
    }
   },
   "types_to_exclude": [
    "module",
    "function",
    "builtin_function_or_method",
    "instance",
    "_Feature"
   ],
   "window_display": false
  }
 },
 "nbformat": 4,
 "nbformat_minor": 4
}
