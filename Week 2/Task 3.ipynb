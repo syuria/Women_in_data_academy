{
 "cells": [
  {
   "cell_type": "raw",
   "metadata": {},
   "source": [
    "TASK 3\n",
    "Name : Syuria Amirrudin \n",
    "\n",
    "Write a program which will ask for two numbers from a user. Then offer a menu to the user giving them a choice of maths operators. Once the user has selected which operator they wish to use, perform the calculation by using a procedure and passing parameters. "
   ]
  },
  {
   "cell_type": "code",
   "execution_count": 3,
   "metadata": {},
   "outputs": [],
   "source": [
    "def computation(operator, number1, number2):\n",
    "    if operator=='a':\n",
    "        answer = number1 + number2\n",
    "        print(str(number1) + ' + ' + str(number2) + ' = ' + str(answer))\n",
    "    elif operator=='b':\n",
    "        answer = number1 - number2\n",
    "        print(str(number1) + ' - ' + str(number2) + ' = ' + str(answer))\n",
    "    elif operator=='c':\n",
    "        answer = number1 / number2\n",
    "        print(str(number1) + ' / ' + str(number2) + ' = ' + str(answer))\n",
    "    elif operator=='d':\n",
    "        answer = number1 * number2\n",
    "        print(str(number1) + ' * ' + str(number2) + ' = ' + str(answer))\n",
    "    elif operator=='e':\n",
    "        answer = number1 ** number2\n",
    "        print(str(number1) + ' power of ' + str(number2) + ' = ' + str(answer))\n",
    "    elif operator=='f':\n",
    "        answer = number1 * number1\n",
    "        print('Square ' + str(number1) + ' = ' + str(answer))\n",
    "        answer = number2 * number2\n",
    "        print('Square ' + str(number2) + ' = ' + str(answer))\n",
    "    else:\n",
    "        print('Wrong operator')"
   ]
  },
  {
   "cell_type": "code",
   "execution_count": 4,
   "metadata": {},
   "outputs": [
    {
     "name": "stdout",
     "output_type": "stream",
     "text": [
      "Enter number 1:3\n"
     ]
    }
   ],
   "source": [
    "number1 = int(input(\"Enter number 1:\"))"
   ]
  },
  {
   "cell_type": "code",
   "execution_count": 5,
   "metadata": {},
   "outputs": [
    {
     "name": "stdout",
     "output_type": "stream",
     "text": [
      "Enter number 2:4\n"
     ]
    }
   ],
   "source": [
    "number2 = int(input(\"Enter number 2:\"))"
   ]
  },
  {
   "cell_type": "code",
   "execution_count": 6,
   "metadata": {},
   "outputs": [
    {
     "name": "stdout",
     "output_type": "stream",
     "text": [
      "a - if you want to add\n",
      "b - if you want to substract\n",
      "c - if you want to divide\n",
      "d - if you want to multiply\n",
      "e - if you want to power of\n",
      "f - if you want to square\n"
     ]
    }
   ],
   "source": [
    "print('a - if you want to add')\n",
    "print('b - if you want to substract')\n",
    "print('c - if you want to divide')\n",
    "print('d - if you want to multiply')\n",
    "print('e - if you want to power of')\n",
    "print('f - if you want to square')"
   ]
  },
  {
   "cell_type": "code",
   "execution_count": 7,
   "metadata": {},
   "outputs": [
    {
     "name": "stdout",
     "output_type": "stream",
     "text": [
      "Choose the operator: f\n"
     ]
    }
   ],
   "source": [
    "operator = input(\"Choose the operator: \")\n"
   ]
  },
  {
   "cell_type": "code",
   "execution_count": 8,
   "metadata": {},
   "outputs": [
    {
     "name": "stdout",
     "output_type": "stream",
     "text": [
      "Square 3 = 9\n",
      "Square 4 = 16\n"
     ]
    }
   ],
   "source": [
    "computation(operator, number1, number2)"
   ]
  },
  {
   "cell_type": "code",
   "execution_count": null,
   "metadata": {},
   "outputs": [],
   "source": []
  }
 ],
 "metadata": {
  "kernelspec": {
   "display_name": "tutorial_ds",
   "language": "python",
   "name": "tutorial_ds"
  },
  "language_info": {
   "codemirror_mode": {
    "name": "ipython",
    "version": 3
   },
   "file_extension": ".py",
   "mimetype": "text/x-python",
   "name": "python",
   "nbconvert_exporter": "python",
   "pygments_lexer": "ipython3",
   "version": "3.9.1"
  },
  "toc": {
   "base_numbering": 1,
   "nav_menu": {},
   "number_sections": true,
   "sideBar": true,
   "skip_h1_title": false,
   "title_cell": "Table of Contents",
   "title_sidebar": "Contents",
   "toc_cell": false,
   "toc_position": {},
   "toc_section_display": true,
   "toc_window_display": false
  },
  "varInspector": {
   "cols": {
    "lenName": 16,
    "lenType": 16,
    "lenVar": 40
   },
   "kernels_config": {
    "python": {
     "delete_cmd_postfix": "",
     "delete_cmd_prefix": "del ",
     "library": "var_list.py",
     "varRefreshCmd": "print(var_dic_list())"
    },
    "r": {
     "delete_cmd_postfix": ") ",
     "delete_cmd_prefix": "rm(",
     "library": "var_list.r",
     "varRefreshCmd": "cat(var_dic_list()) "
    }
   },
   "types_to_exclude": [
    "module",
    "function",
    "builtin_function_or_method",
    "instance",
    "_Feature"
   ],
   "window_display": false
  }
 },
 "nbformat": 4,
 "nbformat_minor": 4
}
