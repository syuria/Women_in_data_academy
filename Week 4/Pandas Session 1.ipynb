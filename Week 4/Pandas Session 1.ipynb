{
 "cells": [
  {
   "cell_type": "code",
   "execution_count": 1,
   "metadata": {},
   "outputs": [],
   "source": [
    "## Import Pandas\n",
    "import pandas as pd"
   ]
  },
  {
   "cell_type": "markdown",
   "metadata": {},
   "source": [
    "Slide 6"
   ]
  },
  {
   "cell_type": "code",
   "execution_count": 2,
   "metadata": {},
   "outputs": [
    {
     "name": "stdout",
     "output_type": "stream",
     "text": [
      "0            439\n",
      "1          98.54\n",
      "2    Hello World\n",
      "3     Sea Breeze\n",
      "4           -342\n",
      "dtype: object\n"
     ]
    }
   ],
   "source": [
    "# setup a one dimensional array-like object\n",
    "# The word Series must start with a capital letter otherwise you get a syntax error\n",
    "\n",
    "myseries = pd.Series([439, 98.54, 'Hello World', 'Sea Breeze', -342])\n",
    "\n",
    "# print the data in series\n",
    "print(myseries)\n",
    "\n",
    "# when the data is printed what do you notice?"
   ]
  },
  {
   "cell_type": "markdown",
   "metadata": {},
   "source": [
    "Slide 8"
   ]
  },
  {
   "cell_type": "code",
   "execution_count": 3,
   "metadata": {},
   "outputs": [
    {
     "name": "stdout",
     "output_type": "stream",
     "text": [
      "        Code      Produce      Origin  Price\n",
      "0  475984412      Avocado      Mexico   1.75\n",
      "1  475871129       Banana  Costa Rica   0.73\n",
      "2  476214584    Courgette      France   2.00\n",
      "3  475854812  Cauliflower          UK   1.80\n"
     ]
    }
   ],
   "source": [
    "#create data\n",
    "inventory = {\"Code\": [475984412, 475871129, 476214584, 475854812],\n",
    "            \"Produce\": [\"Avocado\", \"Banana\", \"Courgette\", \"Cauliflower\"],\n",
    "            \"Origin\": [\"Mexico\", \"Costa Rica\", \"France\", \"UK\"],\n",
    "            \"Price\": [1.75, 0.73, 2.00, 1.80]}\n",
    "\n",
    "#print(inventory)\n",
    "# create variable\n",
    "\n",
    "myframe = pd.DataFrame(inventory)\n",
    "#Remember the capitals both D & F\n",
    "\n",
    "# print variable\n",
    "print(myframe)"
   ]
  },
  {
   "cell_type": "markdown",
   "metadata": {},
   "source": [
    "Slide 9"
   ]
  },
  {
   "cell_type": "code",
   "execution_count": 4,
   "metadata": {},
   "outputs": [
    {
     "name": "stdout",
     "output_type": "stream",
     "text": [
      "         Code      Produce      Origin  Price\n",
      "AV  475984412      Avocado      Mexico   1.75\n",
      "BN  475871129       Banana  Costa Rica   0.73\n",
      "CG  476214584    Courgette      France   2.00\n",
      "CF  475854812  Cauliflower          UK   1.80\n"
     ]
    }
   ],
   "source": [
    "## create index\n",
    "myframe.index = [\"AV\", \"BN\", \"CG\", \"CF\"]\n",
    "## When creating an index, be aware that the index values need to be unique\n",
    "\n",
    "print(myframe)"
   ]
  },
  {
   "cell_type": "markdown",
   "metadata": {},
   "source": [
    "Slide 10 + 11 "
   ]
  },
  {
   "cell_type": "code",
   "execution_count": 9,
   "metadata": {},
   "outputs": [
    {
     "name": "stdout",
     "output_type": "stream",
     "text": [
      "   Owner_Surname  Pet_Name  Pet_Age  Last_Visit      Type Chipped\n",
      "0          Adams    Fluffy        2  11/05/2020       Cat     Yes\n",
      "1          Smith      Zuko        8  30/01/2019       Dog     Yes\n",
      "2      Radcliffe      Nala        4  24/11/2019       Dog     Yes\n",
      "3        Holland  Mr Chips       10  15/06/2019       Dog      No\n",
      "4         Potter     Daisy        9  07/04/2020    Rabbit     Yes\n",
      "5         Sorola     Oscar        1  27/02/2020   Hamster      No\n",
      "6           Pike     Pepsi        6  18/09/2019       Cat     Yes\n",
      "7         Murray    George       17  12/02/2020  Tortoise      No\n",
      "8          Aston     Monty        3  09/03/2020       Dog     Yes\n",
      "9         Waller       Flo        7  06/05/2019       Cat     Yes\n",
      "10   De la Force     Anton        2  31/08/2019       Cat      No\n",
      "11          Reed     Farah        5  02/03/2020     Horse      No\n",
      "12      Martinez     Homer        6  24/11/2019       Dog     Yes\n",
      "13            Li      Iggy        5  14/12/2019       Dog     Yes\n",
      "14     Rodriquez     Bobby        3  28/02/2020    Rabbit      No\n"
     ]
    }
   ],
   "source": [
    "##read the csv file using pd.read_csv\n",
    "vetdata = pd.read_csv(\"vet_data.csv\")\n",
    "#Ensure that your csv file in within the same folder as your python file\n",
    "vetdata.drop([\"Unnamed: 6\"], axis=1, inplace=True)\n",
    "print(vetdata)"
   ]
  },
  {
   "cell_type": "code",
   "execution_count": 10,
   "metadata": {},
   "outputs": [
    {
     "name": "stdout",
     "output_type": "stream",
     "text": [
      "0      2\n",
      "1      8\n",
      "2      4\n",
      "3     10\n",
      "4      9\n",
      "5      1\n",
      "6      6\n",
      "7     17\n",
      "8      3\n",
      "9      7\n",
      "10     2\n",
      "11     5\n",
      "12     6\n",
      "13     5\n",
      "14     3\n",
      "Name: Pet_Age, dtype: int64\n"
     ]
    }
   ],
   "source": [
    "print(vetdata[\"Pet_Age\"])"
   ]
  },
  {
   "cell_type": "code",
   "execution_count": 11,
   "metadata": {},
   "outputs": [
    {
     "name": "stdout",
     "output_type": "stream",
     "text": [
      "    Pet_Name\n",
      "0     Fluffy\n",
      "1       Zuko\n",
      "2       Nala\n",
      "3   Mr Chips\n",
      "4      Daisy\n",
      "5      Oscar\n",
      "6      Pepsi\n",
      "7     George\n",
      "8      Monty\n",
      "9        Flo\n",
      "10     Anton\n",
      "11     Farah\n",
      "12     Homer\n",
      "13      Iggy\n",
      "14     Bobby\n"
     ]
    }
   ],
   "source": [
    "print(vetdata[[\"Pet_Name\"]])"
   ]
  },
  {
   "cell_type": "code",
   "execution_count": 12,
   "metadata": {},
   "outputs": [
    {
     "name": "stdout",
     "output_type": "stream",
     "text": [
      "        Type  Pet_Age Chipped\n",
      "0        Cat        2     Yes\n",
      "1        Dog        8     Yes\n",
      "2        Dog        4     Yes\n",
      "3        Dog       10      No\n",
      "4     Rabbit        9     Yes\n",
      "5    Hamster        1      No\n",
      "6        Cat        6     Yes\n",
      "7   Tortoise       17      No\n",
      "8        Dog        3     Yes\n",
      "9        Cat        7     Yes\n",
      "10       Cat        2      No\n",
      "11     Horse        5      No\n",
      "12       Dog        6     Yes\n",
      "13       Dog        5     Yes\n",
      "14    Rabbit        3      No\n"
     ]
    }
   ],
   "source": [
    "##retrieving multiple columns as dataframe\n",
    "print(vetdata[[\"Type\", \"Pet_Age\", \"Chipped\"]])"
   ]
  },
  {
   "cell_type": "code",
   "execution_count": null,
   "metadata": {},
   "outputs": [],
   "source": [
    "vetdata.drop([\"Unnamed: 6\"], axis=1, inplace=True)"
   ]
  },
  {
   "cell_type": "code",
   "execution_count": 13,
   "metadata": {},
   "outputs": [
    {
     "name": "stdout",
     "output_type": "stream",
     "text": [
      "   Owner_Surname  Pet_Name  Pet_Age  Last_Visit      Type Chipped\n",
      "0          Adams    Fluffy        2  11/05/2020       Cat     Yes\n",
      "1          Smith      Zuko        8  30/01/2019       Dog     Yes\n",
      "2      Radcliffe      Nala        4  24/11/2019       Dog     Yes\n",
      "3        Holland  Mr Chips       10  15/06/2019       Dog      No\n",
      "4         Potter     Daisy        9  07/04/2020    Rabbit     Yes\n",
      "5         Sorola     Oscar        1  27/02/2020   Hamster      No\n",
      "6           Pike     Pepsi        6  18/09/2019       Cat     Yes\n",
      "7         Murray    George       17  12/02/2020  Tortoise      No\n",
      "8          Aston     Monty        3  09/03/2020       Dog     Yes\n",
      "9         Waller       Flo        7  06/05/2019       Cat     Yes\n",
      "10   De la Force     Anton        2  31/08/2019       Cat      No\n",
      "11          Reed     Farah        5  02/03/2020     Horse      No\n",
      "12      Martinez     Homer        6  24/11/2019       Dog     Yes\n",
      "13            Li      Iggy        5  14/12/2019       Dog     Yes\n",
      "14     Rodriquez     Bobby        3  28/02/2020    Rabbit      No\n"
     ]
    }
   ],
   "source": [
    "print(vetdata)"
   ]
  },
  {
   "cell_type": "markdown",
   "metadata": {},
   "source": [
    "Slide 12"
   ]
  },
  {
   "cell_type": "code",
   "execution_count": 14,
   "metadata": {},
   "outputs": [
    {
     "name": "stdout",
     "output_type": "stream",
     "text": [
      "  Owner_Surname  Pet_Name  Pet_Age  Last_Visit Type Chipped\n",
      "0         Adams    Fluffy        2  11/05/2020  Cat     Yes\n",
      "1         Smith      Zuko        8  30/01/2019  Dog     Yes\n",
      "2     Radcliffe      Nala        4  24/11/2019  Dog     Yes\n",
      "3       Holland  Mr Chips       10  15/06/2019  Dog      No\n"
     ]
    }
   ],
   "source": [
    "## Print the first 4 observations (rows)\n",
    "print(vetdata[0:4])"
   ]
  },
  {
   "cell_type": "code",
   "execution_count": 15,
   "metadata": {},
   "outputs": [
    {
     "name": "stdout",
     "output_type": "stream",
     "text": [
      "   Owner_Surname Pet_Name  Pet_Age  Last_Visit   Type Chipped\n",
      "8          Aston    Monty        3  09/03/2020    Dog     Yes\n",
      "9         Waller      Flo        7  06/05/2019    Cat     Yes\n",
      "10   De la Force    Anton        2  31/08/2019    Cat      No\n",
      "11          Reed    Farah        5  02/03/2020  Horse      No\n"
     ]
    }
   ],
   "source": [
    "print(vetdata[8:12])"
   ]
  },
  {
   "cell_type": "markdown",
   "metadata": {},
   "source": [
    "Slide 13 + 14"
   ]
  },
  {
   "cell_type": "code",
   "execution_count": 16,
   "metadata": {},
   "outputs": [
    {
     "name": "stdout",
     "output_type": "stream",
     "text": [
      "Owner_Surname         Smith\n",
      "Pet_Name               Zuko\n",
      "Pet_Age                   8\n",
      "Last_Visit       30/01/2019\n",
      "Type                    Dog\n",
      "Chipped                 Yes\n",
      "Name: 1, dtype: object\n"
     ]
    }
   ],
   "source": [
    "## Print out observations for index row 1\n",
    "print(vetdata.iloc[1])"
   ]
  },
  {
   "cell_type": "code",
   "execution_count": 21,
   "metadata": {},
   "outputs": [
    {
     "name": "stdout",
     "output_type": "stream",
     "text": [
      "              Pet_Name  Pet_Age  Last_Visit     Type Chipped Unnamed: 6\n",
      "Owner_Surname                                                          \n",
      "Smith             Zuko        8  30/01/2019      Dog     Yes        NaN\n",
      "Sorola           Oscar        1  27/02/2020  Hamster      No        NaN\n"
     ]
    }
   ],
   "source": [
    "## read the csv file using pd.read_csv\n",
    "vetdata = pd.read_csv(\"vet_data.csv\", index_col=\"Owner_Surname\")\n",
    "\n",
    "## Print out observations for Smith and Sorola\n",
    "print(vetdata.loc[[\"Smith\", \"Sorola\"]])\n"
   ]
  },
  {
   "cell_type": "code",
   "execution_count": null,
   "metadata": {},
   "outputs": [],
   "source": []
  }
 ],
 "metadata": {
  "kernelspec": {
   "display_name": "Python 3",
   "language": "python",
   "name": "python3"
  },
  "language_info": {
   "codemirror_mode": {
    "name": "ipython",
    "version": 3
   },
   "file_extension": ".py",
   "mimetype": "text/x-python",
   "name": "python",
   "nbconvert_exporter": "python",
   "pygments_lexer": "ipython3",
   "version": "3.8.3"
  }
 },
 "nbformat": 4,
 "nbformat_minor": 4
}
