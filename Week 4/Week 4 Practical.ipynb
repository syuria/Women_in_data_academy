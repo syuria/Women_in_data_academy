{
 "cells": [
  {
   "cell_type": "markdown",
   "metadata": {},
   "source": [
    "Instruction\n",
    "---------------\n",
    "Complete the following data analysis, taking screenshots/evidence for each one , save into a document prepare presentation for the customer on ( you need to show the output for each one and also be able to show how you reached the result) :"
   ]
  },
  {
   "cell_type": "markdown",
   "metadata": {},
   "source": [
    "Task 1\n",
    "---------\n",
    "How many rows and columns are there in your file? "
   ]
  },
  {
   "cell_type": "code",
   "execution_count": 5,
   "metadata": {},
   "outputs": [],
   "source": [
    "import pandas as pd\n",
    "\n",
    "data = pd.read_csv('data_destination.csv')"
   ]
  },
  {
   "cell_type": "code",
   "execution_count": 49,
   "metadata": {},
   "outputs": [
    {
     "data": {
      "text/html": [
       "<div>\n",
       "<style scoped>\n",
       "    .dataframe tbody tr th:only-of-type {\n",
       "        vertical-align: middle;\n",
       "    }\n",
       "\n",
       "    .dataframe tbody tr th {\n",
       "        vertical-align: top;\n",
       "    }\n",
       "\n",
       "    .dataframe thead th {\n",
       "        text-align: right;\n",
       "    }\n",
       "</style>\n",
       "<table border=\"1\" class=\"dataframe\">\n",
       "  <thead>\n",
       "    <tr style=\"text-align: right;\">\n",
       "      <th></th>\n",
       "      <th>Unnamed: 0</th>\n",
       "      <th>destinations</th>\n",
       "      <th>feedback_score</th>\n",
       "      <th>average_hotel_rating</th>\n",
       "      <th>no_all_inclusive_hotel</th>\n",
       "      <th>most_visited_city</th>\n",
       "    </tr>\n",
       "  </thead>\n",
       "  <tbody>\n",
       "    <tr>\n",
       "      <th>0</th>\n",
       "      <td>0</td>\n",
       "      <td>Kuala Lumpur</td>\n",
       "      <td>4</td>\n",
       "      <td>8.2</td>\n",
       "      <td>3</td>\n",
       "      <td>Batu Caves</td>\n",
       "    </tr>\n",
       "    <tr>\n",
       "      <th>1</th>\n",
       "      <td>1</td>\n",
       "      <td>Malacca</td>\n",
       "      <td>10</td>\n",
       "      <td>5.6</td>\n",
       "      <td>2</td>\n",
       "      <td>Jonker Walk</td>\n",
       "    </tr>\n",
       "    <tr>\n",
       "      <th>2</th>\n",
       "      <td>2</td>\n",
       "      <td>Penang</td>\n",
       "      <td>3</td>\n",
       "      <td>3.7</td>\n",
       "      <td>6</td>\n",
       "      <td>Butterworth</td>\n",
       "    </tr>\n",
       "    <tr>\n",
       "      <th>3</th>\n",
       "      <td>3</td>\n",
       "      <td>Gunung Mulu National Park</td>\n",
       "      <td>4</td>\n",
       "      <td>4.8</td>\n",
       "      <td>6</td>\n",
       "      <td>Miri</td>\n",
       "    </tr>\n",
       "    <tr>\n",
       "      <th>4</th>\n",
       "      <td>4</td>\n",
       "      <td>Langkawi</td>\n",
       "      <td>9</td>\n",
       "      <td>6.5</td>\n",
       "      <td>2</td>\n",
       "      <td>Kuah</td>\n",
       "    </tr>\n",
       "    <tr>\n",
       "      <th>5</th>\n",
       "      <td>5</td>\n",
       "      <td>Taman Negara National Park</td>\n",
       "      <td>1</td>\n",
       "      <td>8.3</td>\n",
       "      <td>5</td>\n",
       "      <td>Kuala Tembeling</td>\n",
       "    </tr>\n",
       "    <tr>\n",
       "      <th>6</th>\n",
       "      <td>6</td>\n",
       "      <td>Cameron Highlands</td>\n",
       "      <td>6</td>\n",
       "      <td>5.9</td>\n",
       "      <td>4</td>\n",
       "      <td>Temerloh</td>\n",
       "    </tr>\n",
       "    <tr>\n",
       "      <th>7</th>\n",
       "      <td>7</td>\n",
       "      <td>Perhentian Islands</td>\n",
       "      <td>3</td>\n",
       "      <td>3.9</td>\n",
       "      <td>3</td>\n",
       "      <td>Besut</td>\n",
       "    </tr>\n",
       "    <tr>\n",
       "      <th>8</th>\n",
       "      <td>8</td>\n",
       "      <td>Semenggoh Nature Reserve</td>\n",
       "      <td>8</td>\n",
       "      <td>6.9</td>\n",
       "      <td>7</td>\n",
       "      <td>Siburan</td>\n",
       "    </tr>\n",
       "    <tr>\n",
       "      <th>9</th>\n",
       "      <td>9</td>\n",
       "      <td>Bako National Park</td>\n",
       "      <td>10</td>\n",
       "      <td>8.4</td>\n",
       "      <td>5</td>\n",
       "      <td>Siburan</td>\n",
       "    </tr>\n",
       "    <tr>\n",
       "      <th>10</th>\n",
       "      <td>10</td>\n",
       "      <td>Kuching</td>\n",
       "      <td>4</td>\n",
       "      <td>9.2</td>\n",
       "      <td>3</td>\n",
       "      <td>Kota Samarahan</td>\n",
       "    </tr>\n",
       "    <tr>\n",
       "      <th>11</th>\n",
       "      <td>11</td>\n",
       "      <td>Sipadan</td>\n",
       "      <td>2</td>\n",
       "      <td>6.9</td>\n",
       "      <td>1</td>\n",
       "      <td>Semporna</td>\n",
       "    </tr>\n",
       "    <tr>\n",
       "      <th>12</th>\n",
       "      <td>12</td>\n",
       "      <td>Lambir Hills National Park</td>\n",
       "      <td>7</td>\n",
       "      <td>8.3</td>\n",
       "      <td>7</td>\n",
       "      <td>Borneo</td>\n",
       "    </tr>\n",
       "    <tr>\n",
       "      <th>13</th>\n",
       "      <td>13</td>\n",
       "      <td>Johor Bahru</td>\n",
       "      <td>7</td>\n",
       "      <td>7.2</td>\n",
       "      <td>4</td>\n",
       "      <td>Batu Pahat</td>\n",
       "    </tr>\n",
       "    <tr>\n",
       "      <th>14</th>\n",
       "      <td>14</td>\n",
       "      <td>Taiping</td>\n",
       "      <td>5</td>\n",
       "      <td>6.3</td>\n",
       "      <td>3</td>\n",
       "      <td>Ipoh</td>\n",
       "    </tr>\n",
       "  </tbody>\n",
       "</table>\n",
       "</div>"
      ],
      "text/plain": [
       "    Unnamed: 0                destinations  feedback_score  \\\n",
       "0            0                Kuala Lumpur               4   \n",
       "1            1                     Malacca              10   \n",
       "2            2                      Penang               3   \n",
       "3            3   Gunung Mulu National Park               4   \n",
       "4            4                    Langkawi               9   \n",
       "5            5  Taman Negara National Park               1   \n",
       "6            6           Cameron Highlands               6   \n",
       "7            7          Perhentian Islands               3   \n",
       "8            8    Semenggoh Nature Reserve               8   \n",
       "9            9          Bako National Park              10   \n",
       "10          10                     Kuching               4   \n",
       "11          11                     Sipadan               2   \n",
       "12          12  Lambir Hills National Park               7   \n",
       "13          13                 Johor Bahru               7   \n",
       "14          14                     Taiping               5   \n",
       "\n",
       "    average_hotel_rating  no_all_inclusive_hotel most_visited_city  \n",
       "0                    8.2                       3        Batu Caves  \n",
       "1                    5.6                       2       Jonker Walk  \n",
       "2                    3.7                       6       Butterworth  \n",
       "3                    4.8                       6              Miri  \n",
       "4                    6.5                       2              Kuah  \n",
       "5                    8.3                       5   Kuala Tembeling  \n",
       "6                    5.9                       4          Temerloh  \n",
       "7                    3.9                       3             Besut  \n",
       "8                    6.9                       7           Siburan  \n",
       "9                    8.4                       5           Siburan  \n",
       "10                   9.2                       3    Kota Samarahan  \n",
       "11                   6.9                       1          Semporna  \n",
       "12                   8.3                       7            Borneo  \n",
       "13                   7.2                       4        Batu Pahat  \n",
       "14                   6.3                       3              Ipoh  "
      ]
     },
     "execution_count": 49,
     "metadata": {},
     "output_type": "execute_result"
    }
   ],
   "source": [
    "data"
   ]
  },
  {
   "cell_type": "code",
   "execution_count": 48,
   "metadata": {},
   "outputs": [
    {
     "data": {
      "text/plain": [
       "(15, 6)"
      ]
     },
     "execution_count": 48,
     "metadata": {},
     "output_type": "execute_result"
    }
   ],
   "source": [
    "data.shape"
   ]
  },
  {
   "cell_type": "markdown",
   "metadata": {},
   "source": [
    "Task 2\n",
    "----------\n",
    "Print row 3 -8 (using iloc /loc)."
   ]
  },
  {
   "cell_type": "code",
   "execution_count": 11,
   "metadata": {},
   "outputs": [
    {
     "name": "stdout",
     "output_type": "stream",
     "text": [
      "   Unnamed: 0                destinations  feedback_score  \\\n",
      "2           2                      Penang               3   \n",
      "3           3   Gunung Mulu National Park               4   \n",
      "4           4                    Langkawi               9   \n",
      "5           5  Taman Negara National Park               1   \n",
      "6           6           Cameron Highlands               6   \n",
      "\n",
      "   average_hotel_rating  no_all_inclusive_hotel most_visited_city  \n",
      "2                   3.7                       6       Butterworth  \n",
      "3                   4.8                       6              Miri  \n",
      "4                   6.5                       2              Kuah  \n",
      "5                   8.3                       5   Kuala Tembeling  \n",
      "6                   5.9                       4          Temerloh  \n"
     ]
    }
   ],
   "source": [
    "print(data.iloc[2:7,])"
   ]
  },
  {
   "cell_type": "markdown",
   "metadata": {},
   "source": [
    "Task 3\n",
    "---------\n",
    "Find the mean number of all-inclusive hotels across all destinations. "
   ]
  },
  {
   "cell_type": "code",
   "execution_count": 15,
   "metadata": {},
   "outputs": [
    {
     "name": "stdout",
     "output_type": "stream",
     "text": [
      "4.066666666666666\n"
     ]
    }
   ],
   "source": [
    "mean = data['no_all_inclusive_hotel'].mean()\n",
    "print(mean)"
   ]
  },
  {
   "cell_type": "markdown",
   "metadata": {},
   "source": [
    "Task 4\n",
    "---------\n",
    "Find the lowest scoring destination."
   ]
  },
  {
   "cell_type": "code",
   "execution_count": 17,
   "metadata": {},
   "outputs": [
    {
     "name": "stdout",
     "output_type": "stream",
     "text": [
      "Unnamed: 0                                         5\n",
      "destinations              Taman Negara National Park\n",
      "feedback_score                                     1\n",
      "average_hotel_rating                             8.3\n",
      "no_all_inclusive_hotel                             5\n",
      "most_visited_city                    Kuala Tembeling\n",
      "Name: 5, dtype: object\n"
     ]
    }
   ],
   "source": [
    "lowest_idx = data['feedback_score'].idxmin()\n",
    "print(data.iloc[lowest_idx])"
   ]
  },
  {
   "cell_type": "markdown",
   "metadata": {},
   "source": [
    "Task 5\n",
    "----------\n",
    "Find the highest scoring destination."
   ]
  },
  {
   "cell_type": "code",
   "execution_count": 18,
   "metadata": {},
   "outputs": [
    {
     "name": "stdout",
     "output_type": "stream",
     "text": [
      "Unnamed: 0                          1\n",
      "destinations                  Malacca\n",
      "feedback_score                     10\n",
      "average_hotel_rating              5.6\n",
      "no_all_inclusive_hotel              2\n",
      "most_visited_city         Jonker Walk\n",
      "Name: 1, dtype: object\n"
     ]
    }
   ],
   "source": [
    "highest_idx = data['feedback_score'].idxmax()\n",
    "print(data.iloc[highest_idx])"
   ]
  },
  {
   "cell_type": "markdown",
   "metadata": {},
   "source": [
    "Task 6\n",
    "----------\n",
    "Find all the destinations where there are more than 9 all-inclusive hotels."
   ]
  },
  {
   "cell_type": "code",
   "execution_count": 21,
   "metadata": {},
   "outputs": [
    {
     "name": "stdout",
     "output_type": "stream",
     "text": [
      "Empty DataFrame\n",
      "Columns: [Unnamed: 0, destinations, feedback_score, average_hotel_rating, no_all_inclusive_hotel, most_visited_city]\n",
      "Index: []\n"
     ]
    }
   ],
   "source": [
    "data_hotel_a9 = data[data['no_all_inclusive_hotel']>9]\n",
    "print(data_hotel_a9)"
   ]
  },
  {
   "cell_type": "markdown",
   "metadata": {},
   "source": [
    "Task 7\n",
    "---------\n",
    "Filter the data by destination and score above 8. "
   ]
  },
  {
   "cell_type": "code",
   "execution_count": 47,
   "metadata": {},
   "outputs": [
    {
     "name": "stdout",
     "output_type": "stream",
     "text": [
      "   Unnamed: 0        destinations  feedback_score  average_hotel_rating  \\\n",
      "1           1             Malacca              10                   5.6   \n",
      "4           4            Langkawi               9                   6.5   \n",
      "9           9  Bako National Park              10                   8.4   \n",
      "\n",
      "   no_all_inclusive_hotel most_visited_city  \n",
      "1                       2       Jonker Walk  \n",
      "4                       2              Kuah  \n",
      "9                       5           Siburan  \n"
     ]
    }
   ],
   "source": [
    "data_dest_a8 = data[data['feedback_score']>8]\n",
    "print(data_dest_a8)"
   ]
  },
  {
   "cell_type": "markdown",
   "metadata": {},
   "source": [
    "Task 8\n",
    "---------\n",
    "Filter the data by destination and score below 2 ( I need to know if these destination should be removed or there is a problem)"
   ]
  },
  {
   "cell_type": "code",
   "execution_count": 23,
   "metadata": {},
   "outputs": [
    {
     "name": "stdout",
     "output_type": "stream",
     "text": [
      "   Unnamed: 0                destinations  feedback_score  \\\n",
      "5           5  Taman Negara National Park               1   \n",
      "\n",
      "   average_hotel_rating  no_all_inclusive_hotel most_visited_city  \n",
      "5                   8.3                       5   Kuala Tembeling  \n"
     ]
    }
   ],
   "source": [
    "data_dest_b2 = data[data['feedback_score']<2]\n",
    "print(data_dest_b2)"
   ]
  },
  {
   "cell_type": "markdown",
   "metadata": {},
   "source": [
    "Task 9\n",
    "---------\n",
    "Is there a correlation between number of all-inclusive hotels and score?"
   ]
  },
  {
   "cell_type": "code",
   "execution_count": 25,
   "metadata": {},
   "outputs": [
    {
     "data": {
      "text/html": [
       "<div>\n",
       "<style scoped>\n",
       "    .dataframe tbody tr th:only-of-type {\n",
       "        vertical-align: middle;\n",
       "    }\n",
       "\n",
       "    .dataframe tbody tr th {\n",
       "        vertical-align: top;\n",
       "    }\n",
       "\n",
       "    .dataframe thead th {\n",
       "        text-align: right;\n",
       "    }\n",
       "</style>\n",
       "<table border=\"1\" class=\"dataframe\">\n",
       "  <thead>\n",
       "    <tr style=\"text-align: right;\">\n",
       "      <th></th>\n",
       "      <th>Unnamed: 0</th>\n",
       "      <th>feedback_score</th>\n",
       "      <th>average_hotel_rating</th>\n",
       "      <th>no_all_inclusive_hotel</th>\n",
       "    </tr>\n",
       "  </thead>\n",
       "  <tbody>\n",
       "    <tr>\n",
       "      <th>Unnamed: 0</th>\n",
       "      <td>1.000000</td>\n",
       "      <td>0.033331</td>\n",
       "      <td>0.352585</td>\n",
       "      <td>0.025629</td>\n",
       "    </tr>\n",
       "    <tr>\n",
       "      <th>feedback_score</th>\n",
       "      <td>0.033331</td>\n",
       "      <td>1.000000</td>\n",
       "      <td>0.132115</td>\n",
       "      <td>0.059354</td>\n",
       "    </tr>\n",
       "    <tr>\n",
       "      <th>average_hotel_rating</th>\n",
       "      <td>0.352585</td>\n",
       "      <td>0.132115</td>\n",
       "      <td>1.000000</td>\n",
       "      <td>0.002887</td>\n",
       "    </tr>\n",
       "    <tr>\n",
       "      <th>no_all_inclusive_hotel</th>\n",
       "      <td>0.025629</td>\n",
       "      <td>0.059354</td>\n",
       "      <td>0.002887</td>\n",
       "      <td>1.000000</td>\n",
       "    </tr>\n",
       "  </tbody>\n",
       "</table>\n",
       "</div>"
      ],
      "text/plain": [
       "                        Unnamed: 0  feedback_score  average_hotel_rating  \\\n",
       "Unnamed: 0                1.000000        0.033331              0.352585   \n",
       "feedback_score            0.033331        1.000000              0.132115   \n",
       "average_hotel_rating      0.352585        0.132115              1.000000   \n",
       "no_all_inclusive_hotel    0.025629        0.059354              0.002887   \n",
       "\n",
       "                        no_all_inclusive_hotel  \n",
       "Unnamed: 0                            0.025629  \n",
       "feedback_score                        0.059354  \n",
       "average_hotel_rating                  0.002887  \n",
       "no_all_inclusive_hotel                1.000000  "
      ]
     },
     "execution_count": 25,
     "metadata": {},
     "output_type": "execute_result"
    }
   ],
   "source": [
    "data.corr(method ='pearson') "
   ]
  },
  {
   "cell_type": "markdown",
   "metadata": {},
   "source": [
    "Task 10\n",
    "-----------\n",
    "Create a data visualisation diagram to show destination and highest scores? "
   ]
  },
  {
   "cell_type": "code",
   "execution_count": 51,
   "metadata": {},
   "outputs": [
    {
     "data": {
      "text/html": [
       "<div>\n",
       "<style scoped>\n",
       "    .dataframe tbody tr th:only-of-type {\n",
       "        vertical-align: middle;\n",
       "    }\n",
       "\n",
       "    .dataframe tbody tr th {\n",
       "        vertical-align: top;\n",
       "    }\n",
       "\n",
       "    .dataframe thead th {\n",
       "        text-align: right;\n",
       "    }\n",
       "</style>\n",
       "<table border=\"1\" class=\"dataframe\">\n",
       "  <thead>\n",
       "    <tr style=\"text-align: right;\">\n",
       "      <th></th>\n",
       "      <th>destinations</th>\n",
       "      <th>feedback_score</th>\n",
       "    </tr>\n",
       "  </thead>\n",
       "  <tbody>\n",
       "    <tr>\n",
       "      <th>1</th>\n",
       "      <td>Malacca</td>\n",
       "      <td>10</td>\n",
       "    </tr>\n",
       "    <tr>\n",
       "      <th>9</th>\n",
       "      <td>Bako National Park</td>\n",
       "      <td>10</td>\n",
       "    </tr>\n",
       "    <tr>\n",
       "      <th>4</th>\n",
       "      <td>Langkawi</td>\n",
       "      <td>9</td>\n",
       "    </tr>\n",
       "    <tr>\n",
       "      <th>8</th>\n",
       "      <td>Semenggoh Nature Reserve</td>\n",
       "      <td>8</td>\n",
       "    </tr>\n",
       "    <tr>\n",
       "      <th>12</th>\n",
       "      <td>Lambir Hills National Park</td>\n",
       "      <td>7</td>\n",
       "    </tr>\n",
       "    <tr>\n",
       "      <th>13</th>\n",
       "      <td>Johor Bahru</td>\n",
       "      <td>7</td>\n",
       "    </tr>\n",
       "    <tr>\n",
       "      <th>6</th>\n",
       "      <td>Cameron Highlands</td>\n",
       "      <td>6</td>\n",
       "    </tr>\n",
       "    <tr>\n",
       "      <th>14</th>\n",
       "      <td>Taiping</td>\n",
       "      <td>5</td>\n",
       "    </tr>\n",
       "    <tr>\n",
       "      <th>0</th>\n",
       "      <td>Kuala Lumpur</td>\n",
       "      <td>4</td>\n",
       "    </tr>\n",
       "    <tr>\n",
       "      <th>3</th>\n",
       "      <td>Gunung Mulu National Park</td>\n",
       "      <td>4</td>\n",
       "    </tr>\n",
       "    <tr>\n",
       "      <th>10</th>\n",
       "      <td>Kuching</td>\n",
       "      <td>4</td>\n",
       "    </tr>\n",
       "    <tr>\n",
       "      <th>2</th>\n",
       "      <td>Penang</td>\n",
       "      <td>3</td>\n",
       "    </tr>\n",
       "    <tr>\n",
       "      <th>7</th>\n",
       "      <td>Perhentian Islands</td>\n",
       "      <td>3</td>\n",
       "    </tr>\n",
       "    <tr>\n",
       "      <th>11</th>\n",
       "      <td>Sipadan</td>\n",
       "      <td>2</td>\n",
       "    </tr>\n",
       "    <tr>\n",
       "      <th>5</th>\n",
       "      <td>Taman Negara National Park</td>\n",
       "      <td>1</td>\n",
       "    </tr>\n",
       "  </tbody>\n",
       "</table>\n",
       "</div>"
      ],
      "text/plain": [
       "                  destinations  feedback_score\n",
       "1                      Malacca              10\n",
       "9           Bako National Park              10\n",
       "4                     Langkawi               9\n",
       "8     Semenggoh Nature Reserve               8\n",
       "12  Lambir Hills National Park               7\n",
       "13                 Johor Bahru               7\n",
       "6            Cameron Highlands               6\n",
       "14                     Taiping               5\n",
       "0                 Kuala Lumpur               4\n",
       "3    Gunung Mulu National Park               4\n",
       "10                     Kuching               4\n",
       "2                       Penang               3\n",
       "7           Perhentian Islands               3\n",
       "11                     Sipadan               2\n",
       "5   Taman Negara National Park               1"
      ]
     },
     "execution_count": 51,
     "metadata": {},
     "output_type": "execute_result"
    }
   ],
   "source": [
    "import matplotlib\n",
    "\n",
    "new_df = pd.DataFrame()\n",
    "new_df['destinations'] = data['destinations']\n",
    "new_df['feedback_score'] = data['feedback_score']\n",
    "new_df.sort_values('feedback_score', ascending=False)"
   ]
  },
  {
   "cell_type": "code",
   "execution_count": 41,
   "metadata": {},
   "outputs": [
    {
     "data": {
      "text/plain": [
       "<AxesSubplot:ylabel='destinations'>"
      ]
     },
     "execution_count": 41,
     "metadata": {},
     "output_type": "execute_result"
    },
    {
     "data": {
      "image/png": "[encoded data removed]",
      "text/plain": [
       "<Figure size 432x288 with 1 Axes>"
      ]
     },
     "metadata": {
      "needs_background": "light"
     },
     "output_type": "display_data"
    }
   ],
   "source": [
    "new_df.sort_values('feedback_score', ascending=False).plot.barh(x='destinations', y='feedback_score')"
   ]
  },
  {
   "cell_type": "code",
   "execution_count": null,
   "metadata": {},
   "outputs": [],
   "source": []
  }
 ],
 "metadata": {
  "kernelspec": {
   "display_name": "tutorial_ds",
   "language": "python",
   "name": "tutorial_ds"
  },
  "language_info": {
   "codemirror_mode": {
    "name": "ipython",
    "version": 3
   },
   "file_extension": ".py",
   "mimetype": "text/x-python",
   "name": "python",
   "nbconvert_exporter": "python",
   "pygments_lexer": "ipython3",
   "version": "3.9.1"
  },
  "toc": {
   "base_numbering": 1,
   "nav_menu": {},
   "number_sections": true,
   "sideBar": true,
   "skip_h1_title": false,
   "title_cell": "Table of Contents",
   "title_sidebar": "Contents",
   "toc_cell": false,
   "toc_position": {},
   "toc_section_display": true,
   "toc_window_display": false
  },
  "varInspector": {
   "cols": {
    "lenName": 16,
    "lenType": 16,
    "lenVar": 40
   },
   "kernels_config": {
    "python": {
     "delete_cmd_postfix": "",
     "delete_cmd_prefix": "del ",
     "library": "var_list.py",
     "varRefreshCmd": "print(var_dic_list())"
    },
    "r": {
     "delete_cmd_postfix": ") ",
     "delete_cmd_prefix": "rm(",
     "library": "var_list.r",
     "varRefreshCmd": "cat(var_dic_list()) "
    }
   },
   "types_to_exclude": [
    "module",
    "function",
    "builtin_function_or_method",
    "instance",
    "_Feature"
   ],
   "window_display": false
  }
 },
 "nbformat": 4,
 "nbformat_minor": 4
}
